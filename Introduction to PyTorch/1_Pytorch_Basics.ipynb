{
  "cells": [
    {
      "cell_type": "markdown",
      "source": [
        "# 1. Import PyTorch"
      ],
      "metadata": {
        "id": "ftvRPr-17-qv"
      }
    },
    {
      "cell_type": "code",
      "execution_count": 1,
      "metadata": {
        "id": "IME46D5y7mS3"
      },
      "outputs": [],
      "source": [
        "import torch"
      ]
    },
    {
      "cell_type": "markdown",
      "source": [
        "# 2. Creating a 1D Tensor\n"
      ],
      "metadata": {
        "id": "u4essSfo79AP"
      }
    },
    {
      "cell_type": "code",
      "execution_count": 16,
      "metadata": {
        "id": "QP_ljIGe7mS5"
      },
      "outputs": [],
      "source": [
        "x = torch.Tensor([1,2,3])"
      ]
    },
    {
      "cell_type": "code",
      "execution_count": 17,
      "metadata": {
        "colab": {
          "base_uri": "https://localhost:8080/"
        },
        "id": "Xh96kQMt7mS5",
        "outputId": "1bb1f1ab-7c45-4cff-a10e-4348ed8ad73c"
      },
      "outputs": [
        {
          "output_type": "execute_result",
          "data": {
            "text/plain": [
              "tensor([1., 2., 3.])"
            ]
          },
          "metadata": {},
          "execution_count": 17
        }
      ],
      "source": [
        "x"
      ]
    },
    {
      "cell_type": "markdown",
      "source": [
        "# 3. Accessing an Element in the Tensor\n"
      ],
      "metadata": {
        "id": "Kmw2QFJ88tt_"
      }
    },
    {
      "cell_type": "code",
      "execution_count": 18,
      "metadata": {
        "colab": {
          "base_uri": "https://localhost:8080/"
        },
        "id": "oo2pZMqZ7mS6",
        "outputId": "9d4e4073-8204-4573-b401-1f5ef7aafef3"
      },
      "outputs": [
        {
          "output_type": "execute_result",
          "data": {
            "text/plain": [
              "tensor(3.)"
            ]
          },
          "metadata": {},
          "execution_count": 18
        }
      ],
      "source": [
        "x[2]"
      ]
    },
    {
      "cell_type": "markdown",
      "source": [
        "# 4. Checking the Shape of the Tensor\n"
      ],
      "metadata": {
        "id": "8qRwS4aO82BH"
      }
    },
    {
      "cell_type": "code",
      "execution_count": 20,
      "metadata": {
        "colab": {
          "base_uri": "https://localhost:8080/"
        },
        "id": "rZJa2_9b7mS7",
        "outputId": "135e49c2-80dc-42ab-c55c-7dee63a9317c"
      },
      "outputs": [
        {
          "output_type": "execute_result",
          "data": {
            "text/plain": [
              "torch.Size([3])"
            ]
          },
          "metadata": {},
          "execution_count": 20
        }
      ],
      "source": [
        "x.shape"
      ]
    },
    {
      "cell_type": "markdown",
      "source": [
        "# 5. Element-wise Addition with Another Tensor"
      ],
      "metadata": {
        "id": "fkq6PRQa860X"
      }
    },
    {
      "cell_type": "code",
      "execution_count": 21,
      "metadata": {
        "colab": {
          "base_uri": "https://localhost:8080/"
        },
        "id": "ksqnfIF67mS7",
        "outputId": "a874c131-c57c-4b33-a5cc-9db375f9223c"
      },
      "outputs": [
        {
          "output_type": "execute_result",
          "data": {
            "text/plain": [
              "tensor([5., 6., 7.])"
            ]
          },
          "metadata": {},
          "execution_count": 21
        }
      ],
      "source": [
        "x + torch.Tensor([4,4,4])"
      ]
    },
    {
      "cell_type": "markdown",
      "source": [
        "# 6. Adding a Scalar to Each Element"
      ],
      "metadata": {
        "id": "v1f4erwF9AQe"
      }
    },
    {
      "cell_type": "code",
      "execution_count": 7,
      "metadata": {
        "colab": {
          "base_uri": "https://localhost:8080/"
        },
        "id": "xaZlREEe7mS7",
        "outputId": "7922fa38-21cb-4277-d59c-785fec67e152"
      },
      "outputs": [
        {
          "output_type": "execute_result",
          "data": {
            "text/plain": [
              "tensor([6., 7., 8.])"
            ]
          },
          "metadata": {},
          "execution_count": 7
        }
      ],
      "source": [
        "x + 5"
      ]
    },
    {
      "cell_type": "markdown",
      "source": [
        "# 7. Creating a 2D Tensor"
      ],
      "metadata": {
        "id": "4V5FFgUt9FHn"
      }
    },
    {
      "cell_type": "code",
      "execution_count": 22,
      "metadata": {
        "id": "ukY55cZe7mS7"
      },
      "outputs": [],
      "source": [
        "x = torch.Tensor([[1,2,3], [4,5,6]])"
      ]
    },
    {
      "cell_type": "code",
      "execution_count": 23,
      "metadata": {
        "colab": {
          "base_uri": "https://localhost:8080/"
        },
        "id": "VN7MF2gk7mS8",
        "outputId": "a4b61ea4-492f-4747-e032-cbbbaaf2ee9b"
      },
      "outputs": [
        {
          "output_type": "execute_result",
          "data": {
            "text/plain": [
              "tensor([[1., 2., 3.],\n",
              "        [4., 5., 6.]])"
            ]
          },
          "metadata": {},
          "execution_count": 23
        }
      ],
      "source": [
        "x"
      ]
    },
    {
      "cell_type": "code",
      "execution_count": 24,
      "metadata": {
        "colab": {
          "base_uri": "https://localhost:8080/"
        },
        "id": "Lhg8JcJ57mS8",
        "outputId": "fa20703f-faa1-444c-b128-74e83cfc908f"
      },
      "outputs": [
        {
          "output_type": "execute_result",
          "data": {
            "text/plain": [
              "tensor(2.)"
            ]
          },
          "metadata": {},
          "execution_count": 24
        }
      ],
      "source": [
        "x[0,1]"
      ]
    },
    {
      "cell_type": "code",
      "execution_count": 25,
      "metadata": {
        "colab": {
          "base_uri": "https://localhost:8080/"
        },
        "id": "s2DAmvjP7mS8",
        "outputId": "e98b6b26-31c2-4e20-f90d-12c09c0add0f"
      },
      "outputs": [
        {
          "output_type": "execute_result",
          "data": {
            "text/plain": [
              "tensor([[ 6.,  7.,  8.],\n",
              "        [ 9., 10., 11.]])"
            ]
          },
          "metadata": {},
          "execution_count": 25
        }
      ],
      "source": [
        "x + 5"
      ]
    },
    {
      "cell_type": "code",
      "execution_count": 28,
      "metadata": {
        "id": "29Klr8WP7mS8"
      },
      "outputs": [],
      "source": [
        "x = torch.randn((1,5))"
      ]
    },
    {
      "cell_type": "markdown",
      "source": [
        "# Creating a Random Tensor (1x5)"
      ],
      "metadata": {
        "id": "NQsioWiJ9Nim"
      }
    },
    {
      "cell_type": "code",
      "execution_count": 29,
      "metadata": {
        "colab": {
          "base_uri": "https://localhost:8080/"
        },
        "id": "Z7jqpsDT7mS8",
        "outputId": "19d049f0-e320-4d9f-b1e4-b3a0e00172c5"
      },
      "outputs": [
        {
          "output_type": "execute_result",
          "data": {
            "text/plain": [
              "tensor([[-2.0062,  0.5842,  1.8769, -0.2862,  0.6655]])"
            ]
          },
          "metadata": {},
          "execution_count": 29
        }
      ],
      "source": [
        "x"
      ]
    },
    {
      "cell_type": "code",
      "execution_count": 14,
      "metadata": {
        "id": "hPiPiB5f7mS9"
      },
      "outputs": [],
      "source": [
        "x = torch.randn((2,3))"
      ]
    },
    {
      "cell_type": "markdown",
      "source": [
        "# Creating Another Random Tensor (2x3)"
      ],
      "metadata": {
        "id": "qNP4pG-j9USY"
      }
    },
    {
      "cell_type": "code",
      "execution_count": 30,
      "metadata": {
        "colab": {
          "base_uri": "https://localhost:8080/"
        },
        "id": "BRLrHNTu7mS9",
        "outputId": "b6bbdd63-16a2-4f21-8e63-c4d5c6b3ea1d"
      },
      "outputs": [
        {
          "output_type": "execute_result",
          "data": {
            "text/plain": [
              "tensor([[-2.0062,  0.5842,  1.8769, -0.2862,  0.6655]])"
            ]
          },
          "metadata": {},
          "execution_count": 30
        }
      ],
      "source": [
        "x"
      ]
    },
    {
      "cell_type": "markdown",
      "source": [
        "**Summary**\n",
        "\n",
        "Tensor Basics: Creating, accessing, and checking shape.\n",
        "\n",
        "Operations: Addition with scalars and element-wise operations.\n",
        "\n",
        "Indexing: Accessing specific elements in 1D and 2D tensors.\n",
        "\n",
        "Random Tensor Generation: Using torch.randn() to create normal-distributed tensors."
      ],
      "metadata": {
        "id": "yfQphncd9ZTv"
      }
    },
    {
      "cell_type": "code",
      "execution_count": 15,
      "metadata": {
        "id": "m9csa0h17mS9"
      },
      "outputs": [],
      "source": []
    }
  ],
  "metadata": {
    "kernelspec": {
      "display_name": "Python 3",
      "language": "python",
      "name": "python3"
    },
    "language_info": {
      "codemirror_mode": {
        "name": "ipython",
        "version": 3
      },
      "file_extension": ".py",
      "mimetype": "text/x-python",
      "name": "python",
      "nbconvert_exporter": "python",
      "pygments_lexer": "ipython3",
      "version": "3.9.1"
    },
    "colab": {
      "provenance": []
    }
  },
  "nbformat": 4,
  "nbformat_minor": 0
}